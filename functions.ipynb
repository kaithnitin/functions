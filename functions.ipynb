{
 "cells": [
  {
   "cell_type": "code",
   "execution_count": 1,
   "id": "12a36776-3d13-4b07-81b7-47d9e3ce6a5f",
   "metadata": {},
   "outputs": [
    {
     "name": "stdout",
     "output_type": "stream",
     "text": [
      "hello world\n"
     ]
    }
   ],
   "source": [
    "print(\"hello world\")"
   ]
  },
  {
   "cell_type": "code",
   "execution_count": 2,
   "id": "3a80cb27-ece9-45a9-874d-434f5271555a",
   "metadata": {},
   "outputs": [],
   "source": [
    "l=[1,2,3,4,5,6,7]"
   ]
  },
  {
   "cell_type": "code",
   "execution_count": 3,
   "id": "1cf1594b-acbd-48f5-b53c-bf6d53d75456",
   "metadata": {},
   "outputs": [
    {
     "data": {
      "text/plain": [
       "7"
      ]
     },
     "execution_count": 3,
     "metadata": {},
     "output_type": "execute_result"
    }
   ],
   "source": [
    "len(l)"
   ]
  },
  {
   "cell_type": "code",
   "execution_count": 5,
   "id": "523c50c0-1a81-44fd-856e-3bc3819b054f",
   "metadata": {},
   "outputs": [
    {
     "data": {
      "text/plain": [
       "list"
      ]
     },
     "execution_count": 5,
     "metadata": {},
     "output_type": "execute_result"
    }
   ],
   "source": [
    "type(l)"
   ]
  },
  {
   "cell_type": "code",
   "execution_count": 6,
   "id": "398872d3-1c90-4a43-bee7-fbc947bb52aa",
   "metadata": {},
   "outputs": [],
   "source": [
    "def rock():\n",
    "    print(\"this is my very very first function\")"
   ]
  },
  {
   "cell_type": "code",
   "execution_count": 7,
   "id": "b17d3646-217b-4c36-be3b-1e2525e213e0",
   "metadata": {},
   "outputs": [
    {
     "name": "stdout",
     "output_type": "stream",
     "text": [
      "this is my very very first function\n"
     ]
    }
   ],
   "source": [
    "rock()"
   ]
  },
  {
   "cell_type": "code",
   "execution_count": 9,
   "id": "310cda6a-30fe-438c-bd36-94e361fd4df5",
   "metadata": {},
   "outputs": [],
   "source": [
    "def rock1():\n",
    "    pass"
   ]
  },
  {
   "cell_type": "code",
   "execution_count": 10,
   "id": "38b38c4c-efdc-430f-b678-b6133aad94a2",
   "metadata": {},
   "outputs": [],
   "source": [
    "def rock2():\n",
    "    pass"
   ]
  },
  {
   "cell_type": "code",
   "execution_count": 11,
   "id": "8a7d01ed-24c4-4a57-a75c-48676f2bca9d",
   "metadata": {},
   "outputs": [
    {
     "name": "stdout",
     "output_type": "stream",
     "text": [
      "this is my very very first function\n"
     ]
    },
    {
     "ename": "TypeError",
     "evalue": "unsupported operand type(s) for +: 'NoneType' and 'str'",
     "output_type": "error",
     "traceback": [
      "\u001b[0;31m---------------------------------------------------------------------------\u001b[0m",
      "\u001b[0;31mTypeError\u001b[0m                                 Traceback (most recent call last)",
      "Cell \u001b[0;32mIn [11], line 1\u001b[0m\n\u001b[0;32m----> 1\u001b[0m \u001b[43mrock\u001b[49m\u001b[43m(\u001b[49m\u001b[43m)\u001b[49m\u001b[38;5;241;43m+\u001b[39;49m\u001b[38;5;124;43m\"\u001b[39;49m\u001b[38;5;124;43maiz\u001b[39;49m\u001b[38;5;124;43m\"\u001b[39;49m\n",
      "\u001b[0;31mTypeError\u001b[0m: unsupported operand type(s) for +: 'NoneType' and 'str'"
     ]
    }
   ],
   "source": [
    "rock()+\"aiz\""
   ]
  },
  {
   "cell_type": "code",
   "execution_count": 12,
   "id": "f3d65a7a-69c1-4830-ba93-ab69c2751483",
   "metadata": {},
   "outputs": [
    {
     "name": "stdout",
     "output_type": "stream",
     "text": [
      "this is my very very first function\n"
     ]
    },
    {
     "data": {
      "text/plain": [
       "NoneType"
      ]
     },
     "execution_count": 12,
     "metadata": {},
     "output_type": "execute_result"
    }
   ],
   "source": [
    "type(rock())"
   ]
  },
  {
   "cell_type": "code",
   "execution_count": 13,
   "id": "7e2af54a-6af4-4b93-b0fa-d7b8d1d23241",
   "metadata": {},
   "outputs": [
    {
     "name": "stdout",
     "output_type": "stream",
     "text": [
      "this is my very very first function\n"
     ]
    },
    {
     "data": {
      "text/plain": [
       "'Noneram'"
      ]
     },
     "execution_count": 13,
     "metadata": {},
     "output_type": "execute_result"
    }
   ],
   "source": [
    "str(rock())+\"ram\""
   ]
  },
  {
   "cell_type": "code",
   "execution_count": 14,
   "id": "d27dae51-42e6-443a-9c88-94c70f4aed31",
   "metadata": {},
   "outputs": [],
   "source": [
    "def rock3():\n",
    "    return \"this is my first function\""
   ]
  },
  {
   "cell_type": "code",
   "execution_count": 15,
   "id": "c3a3c974-ef53-4705-8ae1-29c0ad15a0a4",
   "metadata": {},
   "outputs": [
    {
     "data": {
      "text/plain": [
       "'this is my first function'"
      ]
     },
     "execution_count": 15,
     "metadata": {},
     "output_type": "execute_result"
    }
   ],
   "source": [
    "rock3()"
   ]
  },
  {
   "cell_type": "code",
   "execution_count": 17,
   "id": "5ad9771c-de7c-45ac-8239-67103d322252",
   "metadata": {},
   "outputs": [
    {
     "data": {
      "text/plain": [
       "'this is my first function ram'"
      ]
     },
     "execution_count": 17,
     "metadata": {},
     "output_type": "execute_result"
    }
   ],
   "source": [
    "rock3()+\" ram\""
   ]
  },
  {
   "cell_type": "code",
   "execution_count": 20,
   "id": "34a57a29-bc13-4477-a73c-c8d14efa9e16",
   "metadata": {},
   "outputs": [],
   "source": [
    "def rock4():\n",
    "    return 1,2,4,[1,2,3,4,5],\"ram\""
   ]
  },
  {
   "cell_type": "code",
   "execution_count": 22,
   "id": "b1fc2480-252f-44fc-ba0a-eafeb1b6f395",
   "metadata": {},
   "outputs": [
    {
     "data": {
      "text/plain": [
       "(1, 2, 4, [1, 2, 3, 4, 5], 'ram')"
      ]
     },
     "execution_count": 22,
     "metadata": {},
     "output_type": "execute_result"
    }
   ],
   "source": [
    "rock4()"
   ]
  },
  {
   "cell_type": "code",
   "execution_count": 23,
   "id": "99e1ad52-7a33-4856-8100-843af2c61149",
   "metadata": {},
   "outputs": [],
   "source": [
    "a,b,c,d,e=rock4()"
   ]
  },
  {
   "cell_type": "code",
   "execution_count": 24,
   "id": "4a5bb4db-632e-4614-b708-5f77e40cd44c",
   "metadata": {},
   "outputs": [
    {
     "data": {
      "text/plain": [
       "1"
      ]
     },
     "execution_count": 24,
     "metadata": {},
     "output_type": "execute_result"
    }
   ],
   "source": [
    "a"
   ]
  },
  {
   "cell_type": "code",
   "execution_count": 25,
   "id": "96390de1-793a-44fe-bb5b-dd260578af46",
   "metadata": {},
   "outputs": [
    {
     "data": {
      "text/plain": [
       "2"
      ]
     },
     "execution_count": 25,
     "metadata": {},
     "output_type": "execute_result"
    }
   ],
   "source": [
    "b"
   ]
  },
  {
   "cell_type": "code",
   "execution_count": 26,
   "id": "7d1c0bf4-ecc6-412b-9aee-ef52f1d4c791",
   "metadata": {},
   "outputs": [
    {
     "data": {
      "text/plain": [
       "4"
      ]
     },
     "execution_count": 26,
     "metadata": {},
     "output_type": "execute_result"
    }
   ],
   "source": [
    "c"
   ]
  },
  {
   "cell_type": "code",
   "execution_count": 27,
   "id": "9b5f4844-549a-4aaf-8ccd-77c877c2e337",
   "metadata": {},
   "outputs": [
    {
     "data": {
      "text/plain": [
       "[1, 2, 3, 4, 5]"
      ]
     },
     "execution_count": 27,
     "metadata": {},
     "output_type": "execute_result"
    }
   ],
   "source": [
    "d"
   ]
  },
  {
   "cell_type": "code",
   "execution_count": 28,
   "id": "ce9cb1fc-ffb6-4a91-ab8c-6b7bb876dab9",
   "metadata": {},
   "outputs": [
    {
     "data": {
      "text/plain": [
       "'ram'"
      ]
     },
     "execution_count": 28,
     "metadata": {},
     "output_type": "execute_result"
    }
   ],
   "source": [
    "e"
   ]
  },
  {
   "cell_type": "code",
   "execution_count": 30,
   "id": "f21cd6aa-f912-4df1-857b-9c32e9825a6f",
   "metadata": {},
   "outputs": [],
   "source": [
    "l=[1,2,3,4]"
   ]
  },
  {
   "cell_type": "code",
   "execution_count": 36,
   "id": "5bfd4436-7e58-4f43-a77e-d4fb08b64065",
   "metadata": {},
   "outputs": [],
   "source": [
    "x,z,y,w=l"
   ]
  },
  {
   "cell_type": "code",
   "execution_count": 42,
   "id": "62b17879-9da2-4a06-984a-4850697d43be",
   "metadata": {},
   "outputs": [
    {
     "data": {
      "text/plain": [
       "1"
      ]
     },
     "execution_count": 42,
     "metadata": {},
     "output_type": "execute_result"
    }
   ],
   "source": [
    "x"
   ]
  },
  {
   "cell_type": "code",
   "execution_count": 43,
   "id": "2098ac23-b35d-4df0-a4fe-5991afc8da9d",
   "metadata": {},
   "outputs": [
    {
     "data": {
      "text/plain": [
       "3"
      ]
     },
     "execution_count": 43,
     "metadata": {},
     "output_type": "execute_result"
    }
   ],
   "source": [
    "y"
   ]
  },
  {
   "cell_type": "code",
   "execution_count": 44,
   "id": "7e42cbd4-5c53-49e8-bef2-ed6ad026c0bb",
   "metadata": {},
   "outputs": [
    {
     "data": {
      "text/plain": [
       "2"
      ]
     },
     "execution_count": 44,
     "metadata": {},
     "output_type": "execute_result"
    }
   ],
   "source": [
    "z"
   ]
  },
  {
   "cell_type": "code",
   "execution_count": 45,
   "id": "e299d90a-43fa-40da-ad31-85aeb2e84000",
   "metadata": {},
   "outputs": [
    {
     "data": {
      "text/plain": [
       "4"
      ]
     },
     "execution_count": 45,
     "metadata": {},
     "output_type": "execute_result"
    }
   ],
   "source": [
    "w"
   ]
  },
  {
   "cell_type": "code",
   "execution_count": 46,
   "id": "4e499fdf-88c4-46cf-a34d-206ce7ded408",
   "metadata": {},
   "outputs": [],
   "source": [
    "def rock5():\n",
    "    a=5/7\n",
    "    return a"
   ]
  },
  {
   "cell_type": "code",
   "execution_count": 47,
   "id": "c7653542-cbc9-4c93-af6d-247755c7ea1e",
   "metadata": {},
   "outputs": [
    {
     "data": {
      "text/plain": [
       "0.7142857142857143"
      ]
     },
     "execution_count": 47,
     "metadata": {},
     "output_type": "execute_result"
    }
   ],
   "source": [
    "rock5()"
   ]
  },
  {
   "cell_type": "code",
   "execution_count": 50,
   "id": "eb0423d7-3555-4c73-ba34-32a92bb001bd",
   "metadata": {},
   "outputs": [],
   "source": [
    "def rock6(x,y):\n",
    "    a=x//y\n",
    "    return a\n",
    "    "
   ]
  },
  {
   "cell_type": "code",
   "execution_count": 51,
   "id": "f87ed360-ffb8-4ca0-961f-32773c047643",
   "metadata": {},
   "outputs": [
    {
     "data": {
      "text/plain": [
       "2"
      ]
     },
     "execution_count": 51,
     "metadata": {},
     "output_type": "execute_result"
    }
   ],
   "source": [
    "rock6(10,5)"
   ]
  },
  {
   "cell_type": "code",
   "execution_count": 54,
   "id": "c41320e7-5123-4a27-a1d5-a5be1b9ecfbb",
   "metadata": {},
   "outputs": [
    {
     "data": {
      "text/plain": [
       "3"
      ]
     },
     "execution_count": 54,
     "metadata": {},
     "output_type": "execute_result"
    }
   ],
   "source": [
    "rock6(7,2)"
   ]
  },
  {
   "cell_type": "code",
   "execution_count": 55,
   "id": "d7d8d0d6-c0e9-4973-9e02-da75788759bd",
   "metadata": {},
   "outputs": [],
   "source": [
    "def rock7(a,b):\n",
    "    return a+b"
   ]
  },
  {
   "cell_type": "code",
   "execution_count": 56,
   "id": "064df6a3-f99d-4a7b-9f18-f449ef1f5376",
   "metadata": {},
   "outputs": [
    {
     "data": {
      "text/plain": [
       "19"
      ]
     },
     "execution_count": 56,
     "metadata": {},
     "output_type": "execute_result"
    }
   ],
   "source": [
    "rock7(9,10)"
   ]
  },
  {
   "cell_type": "code",
   "execution_count": 57,
   "id": "219f01b4-1a69-4747-9c0f-6d1a964f8da3",
   "metadata": {},
   "outputs": [
    {
     "data": {
      "text/plain": [
       "'ram sita'"
      ]
     },
     "execution_count": 57,
     "metadata": {},
     "output_type": "execute_result"
    }
   ],
   "source": [
    "rock7(\"ram \",\"sita\")"
   ]
  },
  {
   "cell_type": "code",
   "execution_count": 58,
   "id": "3b8ae6a2-af32-4e98-aa7a-92eaf7c5f8a6",
   "metadata": {},
   "outputs": [
    {
     "data": {
      "text/plain": [
       "[1, 2, 3, 4, 5, 6, 7, 8, 9, 10]"
      ]
     },
     "execution_count": 58,
     "metadata": {},
     "output_type": "execute_result"
    }
   ],
   "source": [
    "rock7([1,2,3,4],[5,6,7,8,9,10])"
   ]
  },
  {
   "cell_type": "code",
   "execution_count": 59,
   "id": "3c1654ce-6f1f-4d72-9a9d-c3be1fe9f5c2",
   "metadata": {},
   "outputs": [
    {
     "data": {
      "text/plain": [
       "(1, 2, 3, 4, 5, 6, 7, 8, 9)"
      ]
     },
     "execution_count": 59,
     "metadata": {},
     "output_type": "execute_result"
    }
   ],
   "source": [
    "rock7((1,2,3,4,5),(6,7,8,9))"
   ]
  },
  {
   "cell_type": "code",
   "execution_count": 60,
   "id": "f9892f29-dfdc-4ecf-97e8-aa2e6f2618e4",
   "metadata": {},
   "outputs": [
    {
     "ename": "TypeError",
     "evalue": "unsupported operand type(s) for +: 'set' and 'set'",
     "output_type": "error",
     "traceback": [
      "\u001b[0;31m---------------------------------------------------------------------------\u001b[0m",
      "\u001b[0;31mTypeError\u001b[0m                                 Traceback (most recent call last)",
      "Cell \u001b[0;32mIn [60], line 1\u001b[0m\n\u001b[0;32m----> 1\u001b[0m \u001b[43mrock7\u001b[49m\u001b[43m(\u001b[49m\u001b[43m{\u001b[49m\u001b[38;5;241;43m1\u001b[39;49m\u001b[43m,\u001b[49m\u001b[38;5;241;43m2\u001b[39;49m\u001b[43m,\u001b[49m\u001b[38;5;241;43m3\u001b[39;49m\u001b[43m,\u001b[49m\u001b[38;5;241;43m4\u001b[39;49m\u001b[43m}\u001b[49m\u001b[43m,\u001b[49m\u001b[43m{\u001b[49m\u001b[38;5;241;43m5\u001b[39;49m\u001b[43m,\u001b[49m\u001b[38;5;241;43m6\u001b[39;49m\u001b[43m,\u001b[49m\u001b[38;5;241;43m7\u001b[39;49m\u001b[43m,\u001b[49m\u001b[38;5;241;43m8\u001b[39;49m\u001b[43m}\u001b[49m\u001b[43m)\u001b[49m\n",
      "Cell \u001b[0;32mIn [55], line 2\u001b[0m, in \u001b[0;36mrock7\u001b[0;34m(a, b)\u001b[0m\n\u001b[1;32m      1\u001b[0m \u001b[38;5;28;01mdef\u001b[39;00m \u001b[38;5;21mrock7\u001b[39m(a,b):\n\u001b[0;32m----> 2\u001b[0m     \u001b[38;5;28;01mreturn\u001b[39;00m \u001b[43ma\u001b[49m\u001b[38;5;241;43m+\u001b[39;49m\u001b[43mb\u001b[49m\n",
      "\u001b[0;31mTypeError\u001b[0m: unsupported operand type(s) for +: 'set' and 'set'"
     ]
    }
   ],
   "source": [
    "rock7({1,2,3,4},{5,6,7,8})"
   ]
  },
  {
   "cell_type": "code",
   "execution_count": 61,
   "id": "8bcecd5b-0505-4bff-ab3e-8aad7779facb",
   "metadata": {},
   "outputs": [
    {
     "ename": "TypeError",
     "evalue": "unsupported operand type(s) for +: 'dict' and 'dict'",
     "output_type": "error",
     "traceback": [
      "\u001b[0;31m---------------------------------------------------------------------------\u001b[0m",
      "\u001b[0;31mTypeError\u001b[0m                                 Traceback (most recent call last)",
      "Cell \u001b[0;32mIn [61], line 1\u001b[0m\n\u001b[0;32m----> 1\u001b[0m \u001b[43mrock7\u001b[49m\u001b[43m(\u001b[49m\u001b[43m{\u001b[49m\u001b[38;5;241;43m1\u001b[39;49m\u001b[43m:\u001b[49m\u001b[38;5;124;43m\"\u001b[39;49m\u001b[38;5;124;43mmango\u001b[39;49m\u001b[38;5;124;43m\"\u001b[39;49m\u001b[43m,\u001b[49m\u001b[38;5;241;43m2\u001b[39;49m\u001b[43m:\u001b[49m\u001b[38;5;124;43m\"\u001b[39;49m\u001b[38;5;124;43mbanana\u001b[39;49m\u001b[38;5;124;43m\"\u001b[39;49m\u001b[43m,\u001b[49m\u001b[38;5;241;43m3\u001b[39;49m\u001b[43m:\u001b[49m\u001b[38;5;124;43m\"\u001b[39;49m\u001b[38;5;124;43mshops\u001b[39;49m\u001b[38;5;124;43m\"\u001b[39;49m\u001b[43m}\u001b[49m\u001b[43m,\u001b[49m\u001b[43m{\u001b[49m\u001b[38;5;241;43m5\u001b[39;49m\u001b[43m:\u001b[49m\u001b[38;5;124;43m\"\u001b[39;49m\u001b[38;5;124;43mcandy\u001b[39;49m\u001b[38;5;124;43m\"\u001b[39;49m\u001b[43m,\u001b[49m\u001b[38;5;241;43m6\u001b[39;49m\u001b[43m:\u001b[49m\u001b[38;5;124;43m\"\u001b[39;49m\u001b[38;5;124;43mchocolate\u001b[39;49m\u001b[38;5;124;43m\"\u001b[39;49m\u001b[43m,\u001b[49m\u001b[38;5;241;43m7\u001b[39;49m\u001b[43m:\u001b[49m\u001b[38;5;124;43m\"\u001b[39;49m\u001b[38;5;124;43mfishes\u001b[39;49m\u001b[38;5;124;43m\"\u001b[39;49m\u001b[43m}\u001b[49m\u001b[43m)\u001b[49m\n",
      "Cell \u001b[0;32mIn [55], line 2\u001b[0m, in \u001b[0;36mrock7\u001b[0;34m(a, b)\u001b[0m\n\u001b[1;32m      1\u001b[0m \u001b[38;5;28;01mdef\u001b[39;00m \u001b[38;5;21mrock7\u001b[39m(a,b):\n\u001b[0;32m----> 2\u001b[0m     \u001b[38;5;28;01mreturn\u001b[39;00m \u001b[43ma\u001b[49m\u001b[38;5;241;43m+\u001b[39;49m\u001b[43mb\u001b[49m\n",
      "\u001b[0;31mTypeError\u001b[0m: unsupported operand type(s) for +: 'dict' and 'dict'"
     ]
    }
   ],
   "source": [
    "rock7({1:\"mango\",2:\"banana\",3:\"shops\"},{5:\"candy\",6:\"chocolate\",7:\"fishes\"})"
   ]
  },
  {
   "cell_type": "code",
   "execution_count": 62,
   "id": "9f0894b0-3034-42fd-9025-f8bf6f5637b2",
   "metadata": {},
   "outputs": [],
   "source": [
    "l1=[1,2,3,4,[\"ram\",45,56,2.33],\"aiz\",5.6,34]"
   ]
  },
  {
   "cell_type": "code",
   "execution_count": 111,
   "id": "991eb69a-5f45-43eb-978b-e004c4fe8776",
   "metadata": {},
   "outputs": [],
   "source": [
    "def rock8(l1):\n",
    "    '''separate all the data types in a list'''\n",
    "    l2=[]\n",
    "    l3=[]\n",
    "    l4=[]\n",
    "    for i in l1:\n",
    "        if type(i)==int:\n",
    "            l2.append(i)\n",
    "        elif type(i)==list:\n",
    "            for j in i:\n",
    "                if type(j)==int:\n",
    "                    l2.append(j)\n",
    "                elif type(j)==float:\n",
    "                    l3.append(j)\n",
    "                else:\n",
    "                    l4.append(j)\n",
    "        elif type(i)==float:\n",
    "            l3.append(i)\n",
    "        elif type(i)==list:\n",
    "            for k in i:\n",
    "                if type(k)==float:\n",
    "                    l3.append(k)\n",
    "                elif type(k)==str:\n",
    "                    l4.append(k)\n",
    "        else:\n",
    "            l4.append(i)\n",
    "    return l2,l3,l4"
   ]
  },
  {
   "cell_type": "code",
   "execution_count": 112,
   "id": "94c27c43-11de-4e70-97f5-26f13c3e8ef6",
   "metadata": {},
   "outputs": [
    {
     "data": {
      "text/plain": [
       "([1, 2, 3, 4, 45, 56, 34], [2.33, 5.6], ['ram', 'aiz'])"
      ]
     },
     "execution_count": 112,
     "metadata": {},
     "output_type": "execute_result"
    }
   ],
   "source": [
    "rock8(l1)"
   ]
  },
  {
   "cell_type": "code",
   "execution_count": 113,
   "id": "c0c49a67-242a-401e-9e63-05bc94b17c79",
   "metadata": {},
   "outputs": [],
   "source": [
    "a,b,c=rock8(l1)"
   ]
  },
  {
   "cell_type": "code",
   "execution_count": 114,
   "id": "a842389c-b5b5-4c1d-be68-c910768b1218",
   "metadata": {},
   "outputs": [
    {
     "data": {
      "text/plain": [
       "[1, 2, 3, 4, 45, 56, 34]"
      ]
     },
     "execution_count": 114,
     "metadata": {},
     "output_type": "execute_result"
    }
   ],
   "source": [
    "a"
   ]
  },
  {
   "cell_type": "code",
   "execution_count": 115,
   "id": "0373d33b-a6f0-42a5-9127-2e6ddbb02ae6",
   "metadata": {},
   "outputs": [
    {
     "data": {
      "text/plain": [
       "[2.33, 5.6]"
      ]
     },
     "execution_count": 115,
     "metadata": {},
     "output_type": "execute_result"
    }
   ],
   "source": [
    "b"
   ]
  },
  {
   "cell_type": "code",
   "execution_count": 116,
   "id": "98b79861-27c3-48d0-8d55-402f1b8560fb",
   "metadata": {},
   "outputs": [
    {
     "data": {
      "text/plain": [
       "['ram', 'aiz']"
      ]
     },
     "execution_count": 116,
     "metadata": {},
     "output_type": "execute_result"
    }
   ],
   "source": [
    "c"
   ]
  },
  {
   "cell_type": "code",
   "execution_count": 117,
   "id": "c4a698f2-bf8f-4d67-ad42-540140f966e8",
   "metadata": {},
   "outputs": [],
   "source": [
    "list1=[23,34,45,\"ram\",[45,4.67,\"aiz\"]]"
   ]
  },
  {
   "cell_type": "code",
   "execution_count": 118,
   "id": "21181b16-912b-4692-9d19-1c6af8a1b52e",
   "metadata": {},
   "outputs": [
    {
     "data": {
      "text/plain": [
       "([23, 34, 45, 45], [4.67], ['ram', 'aiz'])"
      ]
     },
     "execution_count": 118,
     "metadata": {},
     "output_type": "execute_result"
    }
   ],
   "source": [
    "rock8(list1)"
   ]
  },
  {
   "cell_type": "code",
   "execution_count": 119,
   "id": "af32ffb4-c6e8-40c2-95e3-7facd9bd90e7",
   "metadata": {},
   "outputs": [],
   "source": [
    "#dynamic input \n",
    "def rock9(*args):\n",
    "    return args"
   ]
  },
  {
   "cell_type": "code",
   "execution_count": 120,
   "id": "ff3c35dd-565f-4ef7-8169-f903ce71a4cf",
   "metadata": {},
   "outputs": [
    {
     "data": {
      "text/plain": [
       "(2, 3, 4, 5, 6, 7, 8, 'tiger')"
      ]
     },
     "execution_count": 120,
     "metadata": {},
     "output_type": "execute_result"
    }
   ],
   "source": [
    "rock9(2,3,4,5,6,7,8,\"tiger\")"
   ]
  },
  {
   "cell_type": "code",
   "execution_count": 127,
   "id": "174da778-d3a8-4672-9237-5662373ea186",
   "metadata": {},
   "outputs": [],
   "source": [
    "def rock10(*mi,a,b):\n",
    "    return mi,a,b"
   ]
  },
  {
   "cell_type": "code",
   "execution_count": 128,
   "id": "a943e890-a6c3-4d7d-aa9e-6ffd5a3432f5",
   "metadata": {},
   "outputs": [
    {
     "ename": "TypeError",
     "evalue": "rock10() missing 2 required keyword-only arguments: 'a' and 'b'",
     "output_type": "error",
     "traceback": [
      "\u001b[0;31m---------------------------------------------------------------------------\u001b[0m",
      "\u001b[0;31mTypeError\u001b[0m                                 Traceback (most recent call last)",
      "Cell \u001b[0;32mIn [128], line 1\u001b[0m\n\u001b[0;32m----> 1\u001b[0m \u001b[43mrock10\u001b[49m\u001b[43m(\u001b[49m\u001b[38;5;241;43m1\u001b[39;49m\u001b[43m,\u001b[49m\u001b[38;5;241;43m2\u001b[39;49m\u001b[43m)\u001b[49m\n",
      "\u001b[0;31mTypeError\u001b[0m: rock10() missing 2 required keyword-only arguments: 'a' and 'b'"
     ]
    }
   ],
   "source": [
    "rock10(1,2)"
   ]
  },
  {
   "cell_type": "code",
   "execution_count": 125,
   "id": "9a1ac234-c9ad-40fa-bb2d-2f954321fe83",
   "metadata": {},
   "outputs": [],
   "source": [
    "def rock10(*mi,a=12,b=23):\n",
    "    return mi,a,b"
   ]
  },
  {
   "cell_type": "code",
   "execution_count": 126,
   "id": "a5139c17-c844-4ebb-a338-561161f2bcfc",
   "metadata": {},
   "outputs": [
    {
     "data": {
      "text/plain": [
       "(('ram', 'disha'), 12, 23)"
      ]
     },
     "execution_count": 126,
     "metadata": {},
     "output_type": "execute_result"
    }
   ],
   "source": [
    "rock10(\"ram\",\"disha\")"
   ]
  },
  {
   "cell_type": "code",
   "execution_count": 129,
   "id": "329e352f-8bf9-426f-8b88-ecf1093b2fe3",
   "metadata": {},
   "outputs": [],
   "source": [
    "def rock11(c,d,a=2,b=3):\n",
    "    return a,b,c,d"
   ]
  },
  {
   "cell_type": "code",
   "execution_count": 130,
   "id": "b5b0f190-1838-4727-bc6b-6e4d3d5c4c9f",
   "metadata": {},
   "outputs": [
    {
     "data": {
      "text/plain": [
       "(2, 3, 25, 26)"
      ]
     },
     "execution_count": 130,
     "metadata": {},
     "output_type": "execute_result"
    }
   ],
   "source": [
    "rock11(25,26)"
   ]
  },
  {
   "cell_type": "code",
   "execution_count": 131,
   "id": "23ddb658-159e-4cee-82c7-af187890e0d3",
   "metadata": {},
   "outputs": [
    {
     "data": {
      "text/plain": [
       "(1, 2, 25, 26)"
      ]
     },
     "execution_count": 131,
     "metadata": {},
     "output_type": "execute_result"
    }
   ],
   "source": [
    "# over write a , b :\n",
    "rock11(25,26,1,2)"
   ]
  },
  {
   "cell_type": "code",
   "execution_count": 132,
   "id": "ff9f85d7-cb3f-49dd-876d-d0d18d82135e",
   "metadata": {},
   "outputs": [],
   "source": [
    "# function with key value pairs\n",
    "def rock12(**kargs):\n",
    "    return kargs"
   ]
  },
  {
   "cell_type": "code",
   "execution_count": 133,
   "id": "5c2c138d-2f98-4b72-9baa-86a36e8ac1e0",
   "metadata": {},
   "outputs": [
    {
     "data": {
      "text/plain": [
       "{'a': 12, 'b': 24, 'c': 'sita', 'd': 'gita', 'e': [1, 2, 3]}"
      ]
     },
     "execution_count": 133,
     "metadata": {},
     "output_type": "execute_result"
    }
   ],
   "source": [
    "rock12(a=12,b=24,c=\"sita\",d=\"gita\",e=[1,2,3])"
   ]
  },
  {
   "cell_type": "code",
   "execution_count": null,
   "id": "36cf40d0-dbcd-4392-bd40-7ae174dd5428",
   "metadata": {},
   "outputs": [],
   "source": []
  }
 ],
 "metadata": {
  "kernelspec": {
   "display_name": "Python 3 (ipykernel)",
   "language": "python",
   "name": "python3"
  },
  "language_info": {
   "codemirror_mode": {
    "name": "ipython",
    "version": 3
   },
   "file_extension": ".py",
   "mimetype": "text/x-python",
   "name": "python",
   "nbconvert_exporter": "python",
   "pygments_lexer": "ipython3",
   "version": "3.10.6"
  }
 },
 "nbformat": 4,
 "nbformat_minor": 5
}
